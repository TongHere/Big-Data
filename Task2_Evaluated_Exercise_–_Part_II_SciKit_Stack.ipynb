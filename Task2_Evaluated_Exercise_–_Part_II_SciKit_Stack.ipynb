{
  "nbformat": 4,
  "nbformat_minor": 0,
  "metadata": {
    "colab": {
      "provenance": []
    },
    "kernelspec": {
      "name": "python3",
      "display_name": "Python 3"
    },
    "language_info": {
      "name": "python"
    }
  },
  "cells": [
    {
      "cell_type": "markdown",
      "source": [
        "#1.Preliminary Steps \n",
        "\n",
        "\n",
        "1. Set up a jupyter notebook \n",
        "2. Upload the dataset \n",
        "3. Select the variables shown in the table above\n",
        "\n",
        "\n"
      ],
      "metadata": {
        "id": "8_dz_QERTieO"
      }
    },
    {
      "cell_type": "code",
      "execution_count": null,
      "metadata": {
        "id": "O6bvbFXczFCZ",
        "colab": {
          "base_uri": "https://localhost:8080/",
          "height": 206
        },
        "outputId": "8dcb3f45-594c-4f81-e981-ea41b1862efb"
      },
      "outputs": [
        {
          "output_type": "execute_result",
          "data": {
            "text/plain": [
              "   int_rate  loan_amnt  term grade home_ownership  annual_inc         purpose\n",
              "0     10.65       5000    36     B           RENT     24000.0     credit_card\n",
              "1     15.27       2500    60     C           RENT     30000.0             car\n",
              "2     15.96       2400    36     C           RENT     12252.0  small_business\n",
              "3     13.49      10000    36     C           RENT     49200.0           other\n",
              "4     12.69       3000    60     B           RENT     80000.0           other"
            ],
            "text/html": [
              "\n",
              "  <div id=\"df-49960e3d-a71c-4db1-a950-31a748b474fe\">\n",
              "    <div class=\"colab-df-container\">\n",
              "      <div>\n",
              "<style scoped>\n",
              "    .dataframe tbody tr th:only-of-type {\n",
              "        vertical-align: middle;\n",
              "    }\n",
              "\n",
              "    .dataframe tbody tr th {\n",
              "        vertical-align: top;\n",
              "    }\n",
              "\n",
              "    .dataframe thead th {\n",
              "        text-align: right;\n",
              "    }\n",
              "</style>\n",
              "<table border=\"1\" class=\"dataframe\">\n",
              "  <thead>\n",
              "    <tr style=\"text-align: right;\">\n",
              "      <th></th>\n",
              "      <th>int_rate</th>\n",
              "      <th>loan_amnt</th>\n",
              "      <th>term</th>\n",
              "      <th>grade</th>\n",
              "      <th>home_ownership</th>\n",
              "      <th>annual_inc</th>\n",
              "      <th>purpose</th>\n",
              "    </tr>\n",
              "  </thead>\n",
              "  <tbody>\n",
              "    <tr>\n",
              "      <th>0</th>\n",
              "      <td>10.65</td>\n",
              "      <td>5000</td>\n",
              "      <td>36</td>\n",
              "      <td>B</td>\n",
              "      <td>RENT</td>\n",
              "      <td>24000.0</td>\n",
              "      <td>credit_card</td>\n",
              "    </tr>\n",
              "    <tr>\n",
              "      <th>1</th>\n",
              "      <td>15.27</td>\n",
              "      <td>2500</td>\n",
              "      <td>60</td>\n",
              "      <td>C</td>\n",
              "      <td>RENT</td>\n",
              "      <td>30000.0</td>\n",
              "      <td>car</td>\n",
              "    </tr>\n",
              "    <tr>\n",
              "      <th>2</th>\n",
              "      <td>15.96</td>\n",
              "      <td>2400</td>\n",
              "      <td>36</td>\n",
              "      <td>C</td>\n",
              "      <td>RENT</td>\n",
              "      <td>12252.0</td>\n",
              "      <td>small_business</td>\n",
              "    </tr>\n",
              "    <tr>\n",
              "      <th>3</th>\n",
              "      <td>13.49</td>\n",
              "      <td>10000</td>\n",
              "      <td>36</td>\n",
              "      <td>C</td>\n",
              "      <td>RENT</td>\n",
              "      <td>49200.0</td>\n",
              "      <td>other</td>\n",
              "    </tr>\n",
              "    <tr>\n",
              "      <th>4</th>\n",
              "      <td>12.69</td>\n",
              "      <td>3000</td>\n",
              "      <td>60</td>\n",
              "      <td>B</td>\n",
              "      <td>RENT</td>\n",
              "      <td>80000.0</td>\n",
              "      <td>other</td>\n",
              "    </tr>\n",
              "  </tbody>\n",
              "</table>\n",
              "</div>\n",
              "      <button class=\"colab-df-convert\" onclick=\"convertToInteractive('df-49960e3d-a71c-4db1-a950-31a748b474fe')\"\n",
              "              title=\"Convert this dataframe to an interactive table.\"\n",
              "              style=\"display:none;\">\n",
              "        \n",
              "  <svg xmlns=\"http://www.w3.org/2000/svg\" height=\"24px\"viewBox=\"0 0 24 24\"\n",
              "       width=\"24px\">\n",
              "    <path d=\"M0 0h24v24H0V0z\" fill=\"none\"/>\n",
              "    <path d=\"M18.56 5.44l.94 2.06.94-2.06 2.06-.94-2.06-.94-.94-2.06-.94 2.06-2.06.94zm-11 1L8.5 8.5l.94-2.06 2.06-.94-2.06-.94L8.5 2.5l-.94 2.06-2.06.94zm10 10l.94 2.06.94-2.06 2.06-.94-2.06-.94-.94-2.06-.94 2.06-2.06.94z\"/><path d=\"M17.41 7.96l-1.37-1.37c-.4-.4-.92-.59-1.43-.59-.52 0-1.04.2-1.43.59L10.3 9.45l-7.72 7.72c-.78.78-.78 2.05 0 2.83L4 21.41c.39.39.9.59 1.41.59.51 0 1.02-.2 1.41-.59l7.78-7.78 2.81-2.81c.8-.78.8-2.07 0-2.86zM5.41 20L4 18.59l7.72-7.72 1.47 1.35L5.41 20z\"/>\n",
              "  </svg>\n",
              "      </button>\n",
              "      \n",
              "  <style>\n",
              "    .colab-df-container {\n",
              "      display:flex;\n",
              "      flex-wrap:wrap;\n",
              "      gap: 12px;\n",
              "    }\n",
              "\n",
              "    .colab-df-convert {\n",
              "      background-color: #E8F0FE;\n",
              "      border: none;\n",
              "      border-radius: 50%;\n",
              "      cursor: pointer;\n",
              "      display: none;\n",
              "      fill: #1967D2;\n",
              "      height: 32px;\n",
              "      padding: 0 0 0 0;\n",
              "      width: 32px;\n",
              "    }\n",
              "\n",
              "    .colab-df-convert:hover {\n",
              "      background-color: #E2EBFA;\n",
              "      box-shadow: 0px 1px 2px rgba(60, 64, 67, 0.3), 0px 1px 3px 1px rgba(60, 64, 67, 0.15);\n",
              "      fill: #174EA6;\n",
              "    }\n",
              "\n",
              "    [theme=dark] .colab-df-convert {\n",
              "      background-color: #3B4455;\n",
              "      fill: #D2E3FC;\n",
              "    }\n",
              "\n",
              "    [theme=dark] .colab-df-convert:hover {\n",
              "      background-color: #434B5C;\n",
              "      box-shadow: 0px 1px 3px 1px rgba(0, 0, 0, 0.15);\n",
              "      filter: drop-shadow(0px 1px 2px rgba(0, 0, 0, 0.3));\n",
              "      fill: #FFFFFF;\n",
              "    }\n",
              "  </style>\n",
              "\n",
              "      <script>\n",
              "        const buttonEl =\n",
              "          document.querySelector('#df-49960e3d-a71c-4db1-a950-31a748b474fe button.colab-df-convert');\n",
              "        buttonEl.style.display =\n",
              "          google.colab.kernel.accessAllowed ? 'block' : 'none';\n",
              "\n",
              "        async function convertToInteractive(key) {\n",
              "          const element = document.querySelector('#df-49960e3d-a71c-4db1-a950-31a748b474fe');\n",
              "          const dataTable =\n",
              "            await google.colab.kernel.invokeFunction('convertToInteractive',\n",
              "                                                     [key], {});\n",
              "          if (!dataTable) return;\n",
              "\n",
              "          const docLinkHtml = 'Like what you see? Visit the ' +\n",
              "            '<a target=\"_blank\" href=https://colab.research.google.com/notebooks/data_table.ipynb>data table notebook</a>'\n",
              "            + ' to learn more about interactive tables.';\n",
              "          element.innerHTML = '';\n",
              "          dataTable['output_type'] = 'display_data';\n",
              "          await google.colab.output.renderOutput(dataTable, element);\n",
              "          const docLink = document.createElement('div');\n",
              "          docLink.innerHTML = docLinkHtml;\n",
              "          element.appendChild(docLink);\n",
              "        }\n",
              "      </script>\n",
              "    </div>\n",
              "  </div>\n",
              "  "
            ]
          },
          "metadata": {},
          "execution_count": 2
        }
      ],
      "source": [
        "# Load the libraries and dataset\n",
        "import pandas as pd \n",
        "import pandas as pd\n",
        "import numpy as np\n",
        "import matplotlib.pyplot as plt\n",
        "%matplotlib inline\n",
        "from collections import Counter\n",
        "import seaborn as sns\n",
        "from sklearn.preprocessing import MinMaxScaler\n",
        "df = pd.read_csv('LoanStats.csv')\n",
        "df.head()"
      ]
    },
    {
      "cell_type": "markdown",
      "source": [
        "#2. Data Understanding \n",
        "1. Analyze the variables in dataset selected"
      ],
      "metadata": {
        "id": "RXZ68lwfI9sT"
      }
    },
    {
      "cell_type": "code",
      "source": [
        "df.head()"
      ],
      "metadata": {
        "colab": {
          "base_uri": "https://localhost:8080/",
          "height": 206
        },
        "id": "4FuNLSrSJwdz",
        "outputId": "416ced14-058e-486e-f35c-c351d9fa29be"
      },
      "execution_count": null,
      "outputs": [
        {
          "output_type": "execute_result",
          "data": {
            "text/plain": [
              "   int_rate  loan_amnt  term grade home_ownership  annual_inc         purpose\n",
              "0     10.65       5000    36     B           RENT     24000.0     credit_card\n",
              "1     15.27       2500    60     C           RENT     30000.0             car\n",
              "2     15.96       2400    36     C           RENT     12252.0  small_business\n",
              "3     13.49      10000    36     C           RENT     49200.0           other\n",
              "4     12.69       3000    60     B           RENT     80000.0           other"
            ],
            "text/html": [
              "\n",
              "  <div id=\"df-b7bcb923-c0a5-40be-9330-96cb96886843\">\n",
              "    <div class=\"colab-df-container\">\n",
              "      <div>\n",
              "<style scoped>\n",
              "    .dataframe tbody tr th:only-of-type {\n",
              "        vertical-align: middle;\n",
              "    }\n",
              "\n",
              "    .dataframe tbody tr th {\n",
              "        vertical-align: top;\n",
              "    }\n",
              "\n",
              "    .dataframe thead th {\n",
              "        text-align: right;\n",
              "    }\n",
              "</style>\n",
              "<table border=\"1\" class=\"dataframe\">\n",
              "  <thead>\n",
              "    <tr style=\"text-align: right;\">\n",
              "      <th></th>\n",
              "      <th>int_rate</th>\n",
              "      <th>loan_amnt</th>\n",
              "      <th>term</th>\n",
              "      <th>grade</th>\n",
              "      <th>home_ownership</th>\n",
              "      <th>annual_inc</th>\n",
              "      <th>purpose</th>\n",
              "    </tr>\n",
              "  </thead>\n",
              "  <tbody>\n",
              "    <tr>\n",
              "      <th>0</th>\n",
              "      <td>10.65</td>\n",
              "      <td>5000</td>\n",
              "      <td>36</td>\n",
              "      <td>B</td>\n",
              "      <td>RENT</td>\n",
              "      <td>24000.0</td>\n",
              "      <td>credit_card</td>\n",
              "    </tr>\n",
              "    <tr>\n",
              "      <th>1</th>\n",
              "      <td>15.27</td>\n",
              "      <td>2500</td>\n",
              "      <td>60</td>\n",
              "      <td>C</td>\n",
              "      <td>RENT</td>\n",
              "      <td>30000.0</td>\n",
              "      <td>car</td>\n",
              "    </tr>\n",
              "    <tr>\n",
              "      <th>2</th>\n",
              "      <td>15.96</td>\n",
              "      <td>2400</td>\n",
              "      <td>36</td>\n",
              "      <td>C</td>\n",
              "      <td>RENT</td>\n",
              "      <td>12252.0</td>\n",
              "      <td>small_business</td>\n",
              "    </tr>\n",
              "    <tr>\n",
              "      <th>3</th>\n",
              "      <td>13.49</td>\n",
              "      <td>10000</td>\n",
              "      <td>36</td>\n",
              "      <td>C</td>\n",
              "      <td>RENT</td>\n",
              "      <td>49200.0</td>\n",
              "      <td>other</td>\n",
              "    </tr>\n",
              "    <tr>\n",
              "      <th>4</th>\n",
              "      <td>12.69</td>\n",
              "      <td>3000</td>\n",
              "      <td>60</td>\n",
              "      <td>B</td>\n",
              "      <td>RENT</td>\n",
              "      <td>80000.0</td>\n",
              "      <td>other</td>\n",
              "    </tr>\n",
              "  </tbody>\n",
              "</table>\n",
              "</div>\n",
              "      <button class=\"colab-df-convert\" onclick=\"convertToInteractive('df-b7bcb923-c0a5-40be-9330-96cb96886843')\"\n",
              "              title=\"Convert this dataframe to an interactive table.\"\n",
              "              style=\"display:none;\">\n",
              "        \n",
              "  <svg xmlns=\"http://www.w3.org/2000/svg\" height=\"24px\"viewBox=\"0 0 24 24\"\n",
              "       width=\"24px\">\n",
              "    <path d=\"M0 0h24v24H0V0z\" fill=\"none\"/>\n",
              "    <path d=\"M18.56 5.44l.94 2.06.94-2.06 2.06-.94-2.06-.94-.94-2.06-.94 2.06-2.06.94zm-11 1L8.5 8.5l.94-2.06 2.06-.94-2.06-.94L8.5 2.5l-.94 2.06-2.06.94zm10 10l.94 2.06.94-2.06 2.06-.94-2.06-.94-.94-2.06-.94 2.06-2.06.94z\"/><path d=\"M17.41 7.96l-1.37-1.37c-.4-.4-.92-.59-1.43-.59-.52 0-1.04.2-1.43.59L10.3 9.45l-7.72 7.72c-.78.78-.78 2.05 0 2.83L4 21.41c.39.39.9.59 1.41.59.51 0 1.02-.2 1.41-.59l7.78-7.78 2.81-2.81c.8-.78.8-2.07 0-2.86zM5.41 20L4 18.59l7.72-7.72 1.47 1.35L5.41 20z\"/>\n",
              "  </svg>\n",
              "      </button>\n",
              "      \n",
              "  <style>\n",
              "    .colab-df-container {\n",
              "      display:flex;\n",
              "      flex-wrap:wrap;\n",
              "      gap: 12px;\n",
              "    }\n",
              "\n",
              "    .colab-df-convert {\n",
              "      background-color: #E8F0FE;\n",
              "      border: none;\n",
              "      border-radius: 50%;\n",
              "      cursor: pointer;\n",
              "      display: none;\n",
              "      fill: #1967D2;\n",
              "      height: 32px;\n",
              "      padding: 0 0 0 0;\n",
              "      width: 32px;\n",
              "    }\n",
              "\n",
              "    .colab-df-convert:hover {\n",
              "      background-color: #E2EBFA;\n",
              "      box-shadow: 0px 1px 2px rgba(60, 64, 67, 0.3), 0px 1px 3px 1px rgba(60, 64, 67, 0.15);\n",
              "      fill: #174EA6;\n",
              "    }\n",
              "\n",
              "    [theme=dark] .colab-df-convert {\n",
              "      background-color: #3B4455;\n",
              "      fill: #D2E3FC;\n",
              "    }\n",
              "\n",
              "    [theme=dark] .colab-df-convert:hover {\n",
              "      background-color: #434B5C;\n",
              "      box-shadow: 0px 1px 3px 1px rgba(0, 0, 0, 0.15);\n",
              "      filter: drop-shadow(0px 1px 2px rgba(0, 0, 0, 0.3));\n",
              "      fill: #FFFFFF;\n",
              "    }\n",
              "  </style>\n",
              "\n",
              "      <script>\n",
              "        const buttonEl =\n",
              "          document.querySelector('#df-b7bcb923-c0a5-40be-9330-96cb96886843 button.colab-df-convert');\n",
              "        buttonEl.style.display =\n",
              "          google.colab.kernel.accessAllowed ? 'block' : 'none';\n",
              "\n",
              "        async function convertToInteractive(key) {\n",
              "          const element = document.querySelector('#df-b7bcb923-c0a5-40be-9330-96cb96886843');\n",
              "          const dataTable =\n",
              "            await google.colab.kernel.invokeFunction('convertToInteractive',\n",
              "                                                     [key], {});\n",
              "          if (!dataTable) return;\n",
              "\n",
              "          const docLinkHtml = 'Like what you see? Visit the ' +\n",
              "            '<a target=\"_blank\" href=https://colab.research.google.com/notebooks/data_table.ipynb>data table notebook</a>'\n",
              "            + ' to learn more about interactive tables.';\n",
              "          element.innerHTML = '';\n",
              "          dataTable['output_type'] = 'display_data';\n",
              "          await google.colab.output.renderOutput(dataTable, element);\n",
              "          const docLink = document.createElement('div');\n",
              "          docLink.innerHTML = docLinkHtml;\n",
              "          element.appendChild(docLink);\n",
              "        }\n",
              "      </script>\n",
              "    </div>\n",
              "  </div>\n",
              "  "
            ]
          },
          "metadata": {},
          "execution_count": 3
        }
      ]
    },
    {
      "cell_type": "code",
      "source": [
        "df.tail()"
      ],
      "metadata": {
        "colab": {
          "base_uri": "https://localhost:8080/",
          "height": 206
        },
        "id": "yCsGFfA9JzvM",
        "outputId": "43e809c0-0a14-44a8-a795-331838eafbe7"
      },
      "execution_count": null,
      "outputs": [
        {
          "output_type": "execute_result",
          "data": {
            "text/plain": [
              "       int_rate  loan_amnt  term grade home_ownership  annual_inc  \\\n",
              "39781      8.07       2500    36     A       MORTGAGE    110000.0   \n",
              "39782     10.28       8500    36     C           RENT     18000.0   \n",
              "39783      8.07       5000    36     A       MORTGAGE    100000.0   \n",
              "39784      7.43       5000    36     A       MORTGAGE    200000.0   \n",
              "39785     13.75       7500    36     E            OWN     22000.0   \n",
              "\n",
              "                  purpose  \n",
              "39781    home_improvement  \n",
              "39782         credit_card  \n",
              "39783  debt_consolidation  \n",
              "39784               other  \n",
              "39785  debt_consolidation  "
            ],
            "text/html": [
              "\n",
              "  <div id=\"df-7a36f3a3-f878-43bf-99ad-369cd8b80cf2\">\n",
              "    <div class=\"colab-df-container\">\n",
              "      <div>\n",
              "<style scoped>\n",
              "    .dataframe tbody tr th:only-of-type {\n",
              "        vertical-align: middle;\n",
              "    }\n",
              "\n",
              "    .dataframe tbody tr th {\n",
              "        vertical-align: top;\n",
              "    }\n",
              "\n",
              "    .dataframe thead th {\n",
              "        text-align: right;\n",
              "    }\n",
              "</style>\n",
              "<table border=\"1\" class=\"dataframe\">\n",
              "  <thead>\n",
              "    <tr style=\"text-align: right;\">\n",
              "      <th></th>\n",
              "      <th>int_rate</th>\n",
              "      <th>loan_amnt</th>\n",
              "      <th>term</th>\n",
              "      <th>grade</th>\n",
              "      <th>home_ownership</th>\n",
              "      <th>annual_inc</th>\n",
              "      <th>purpose</th>\n",
              "    </tr>\n",
              "  </thead>\n",
              "  <tbody>\n",
              "    <tr>\n",
              "      <th>39781</th>\n",
              "      <td>8.07</td>\n",
              "      <td>2500</td>\n",
              "      <td>36</td>\n",
              "      <td>A</td>\n",
              "      <td>MORTGAGE</td>\n",
              "      <td>110000.0</td>\n",
              "      <td>home_improvement</td>\n",
              "    </tr>\n",
              "    <tr>\n",
              "      <th>39782</th>\n",
              "      <td>10.28</td>\n",
              "      <td>8500</td>\n",
              "      <td>36</td>\n",
              "      <td>C</td>\n",
              "      <td>RENT</td>\n",
              "      <td>18000.0</td>\n",
              "      <td>credit_card</td>\n",
              "    </tr>\n",
              "    <tr>\n",
              "      <th>39783</th>\n",
              "      <td>8.07</td>\n",
              "      <td>5000</td>\n",
              "      <td>36</td>\n",
              "      <td>A</td>\n",
              "      <td>MORTGAGE</td>\n",
              "      <td>100000.0</td>\n",
              "      <td>debt_consolidation</td>\n",
              "    </tr>\n",
              "    <tr>\n",
              "      <th>39784</th>\n",
              "      <td>7.43</td>\n",
              "      <td>5000</td>\n",
              "      <td>36</td>\n",
              "      <td>A</td>\n",
              "      <td>MORTGAGE</td>\n",
              "      <td>200000.0</td>\n",
              "      <td>other</td>\n",
              "    </tr>\n",
              "    <tr>\n",
              "      <th>39785</th>\n",
              "      <td>13.75</td>\n",
              "      <td>7500</td>\n",
              "      <td>36</td>\n",
              "      <td>E</td>\n",
              "      <td>OWN</td>\n",
              "      <td>22000.0</td>\n",
              "      <td>debt_consolidation</td>\n",
              "    </tr>\n",
              "  </tbody>\n",
              "</table>\n",
              "</div>\n",
              "      <button class=\"colab-df-convert\" onclick=\"convertToInteractive('df-7a36f3a3-f878-43bf-99ad-369cd8b80cf2')\"\n",
              "              title=\"Convert this dataframe to an interactive table.\"\n",
              "              style=\"display:none;\">\n",
              "        \n",
              "  <svg xmlns=\"http://www.w3.org/2000/svg\" height=\"24px\"viewBox=\"0 0 24 24\"\n",
              "       width=\"24px\">\n",
              "    <path d=\"M0 0h24v24H0V0z\" fill=\"none\"/>\n",
              "    <path d=\"M18.56 5.44l.94 2.06.94-2.06 2.06-.94-2.06-.94-.94-2.06-.94 2.06-2.06.94zm-11 1L8.5 8.5l.94-2.06 2.06-.94-2.06-.94L8.5 2.5l-.94 2.06-2.06.94zm10 10l.94 2.06.94-2.06 2.06-.94-2.06-.94-.94-2.06-.94 2.06-2.06.94z\"/><path d=\"M17.41 7.96l-1.37-1.37c-.4-.4-.92-.59-1.43-.59-.52 0-1.04.2-1.43.59L10.3 9.45l-7.72 7.72c-.78.78-.78 2.05 0 2.83L4 21.41c.39.39.9.59 1.41.59.51 0 1.02-.2 1.41-.59l7.78-7.78 2.81-2.81c.8-.78.8-2.07 0-2.86zM5.41 20L4 18.59l7.72-7.72 1.47 1.35L5.41 20z\"/>\n",
              "  </svg>\n",
              "      </button>\n",
              "      \n",
              "  <style>\n",
              "    .colab-df-container {\n",
              "      display:flex;\n",
              "      flex-wrap:wrap;\n",
              "      gap: 12px;\n",
              "    }\n",
              "\n",
              "    .colab-df-convert {\n",
              "      background-color: #E8F0FE;\n",
              "      border: none;\n",
              "      border-radius: 50%;\n",
              "      cursor: pointer;\n",
              "      display: none;\n",
              "      fill: #1967D2;\n",
              "      height: 32px;\n",
              "      padding: 0 0 0 0;\n",
              "      width: 32px;\n",
              "    }\n",
              "\n",
              "    .colab-df-convert:hover {\n",
              "      background-color: #E2EBFA;\n",
              "      box-shadow: 0px 1px 2px rgba(60, 64, 67, 0.3), 0px 1px 3px 1px rgba(60, 64, 67, 0.15);\n",
              "      fill: #174EA6;\n",
              "    }\n",
              "\n",
              "    [theme=dark] .colab-df-convert {\n",
              "      background-color: #3B4455;\n",
              "      fill: #D2E3FC;\n",
              "    }\n",
              "\n",
              "    [theme=dark] .colab-df-convert:hover {\n",
              "      background-color: #434B5C;\n",
              "      box-shadow: 0px 1px 3px 1px rgba(0, 0, 0, 0.15);\n",
              "      filter: drop-shadow(0px 1px 2px rgba(0, 0, 0, 0.3));\n",
              "      fill: #FFFFFF;\n",
              "    }\n",
              "  </style>\n",
              "\n",
              "      <script>\n",
              "        const buttonEl =\n",
              "          document.querySelector('#df-7a36f3a3-f878-43bf-99ad-369cd8b80cf2 button.colab-df-convert');\n",
              "        buttonEl.style.display =\n",
              "          google.colab.kernel.accessAllowed ? 'block' : 'none';\n",
              "\n",
              "        async function convertToInteractive(key) {\n",
              "          const element = document.querySelector('#df-7a36f3a3-f878-43bf-99ad-369cd8b80cf2');\n",
              "          const dataTable =\n",
              "            await google.colab.kernel.invokeFunction('convertToInteractive',\n",
              "                                                     [key], {});\n",
              "          if (!dataTable) return;\n",
              "\n",
              "          const docLinkHtml = 'Like what you see? Visit the ' +\n",
              "            '<a target=\"_blank\" href=https://colab.research.google.com/notebooks/data_table.ipynb>data table notebook</a>'\n",
              "            + ' to learn more about interactive tables.';\n",
              "          element.innerHTML = '';\n",
              "          dataTable['output_type'] = 'display_data';\n",
              "          await google.colab.output.renderOutput(dataTable, element);\n",
              "          const docLink = document.createElement('div');\n",
              "          docLink.innerHTML = docLinkHtml;\n",
              "          element.appendChild(docLink);\n",
              "        }\n",
              "      </script>\n",
              "    </div>\n",
              "  </div>\n",
              "  "
            ]
          },
          "metadata": {},
          "execution_count": 4
        }
      ]
    },
    {
      "cell_type": "code",
      "source": [
        "df.info()"
      ],
      "metadata": {
        "id": "69sPIRhzTP26",
        "colab": {
          "base_uri": "https://localhost:8080/"
        },
        "outputId": "f9af4f81-dc56-49d5-9b54-04beaf792975"
      },
      "execution_count": null,
      "outputs": [
        {
          "output_type": "stream",
          "name": "stdout",
          "text": [
            "<class 'pandas.core.frame.DataFrame'>\n",
            "RangeIndex: 39786 entries, 0 to 39785\n",
            "Data columns (total 7 columns):\n",
            " #   Column          Non-Null Count  Dtype  \n",
            "---  ------          --------------  -----  \n",
            " 0   int_rate        39786 non-null  float64\n",
            " 1   loan_amnt       39786 non-null  int64  \n",
            " 2   term            39786 non-null  int64  \n",
            " 3   grade           39786 non-null  object \n",
            " 4   home_ownership  39786 non-null  object \n",
            " 5   annual_inc      39786 non-null  float64\n",
            " 6   purpose         39786 non-null  object \n",
            "dtypes: float64(2), int64(2), object(3)\n",
            "memory usage: 2.1+ MB\n"
          ]
        }
      ]
    },
    {
      "cell_type": "code",
      "source": [
        "df.describe()"
      ],
      "metadata": {
        "colab": {
          "base_uri": "https://localhost:8080/",
          "height": 300
        },
        "id": "iIqDokBKJkoF",
        "outputId": "b68409be-ed5c-4e9c-d923-39ba943b549d"
      },
      "execution_count": null,
      "outputs": [
        {
          "output_type": "execute_result",
          "data": {
            "text/plain": [
              "           int_rate     loan_amnt          term    annual_inc\n",
              "count  39786.000000  39786.000000  39786.000000  3.978600e+04\n",
              "mean      12.027873  11231.360277     42.448499  6.897907e+04\n",
              "std        3.727466   7464.542832     10.638782  6.376263e+04\n",
              "min        5.420000    500.000000     36.000000  4.000000e+03\n",
              "25%        9.250000   5500.000000     36.000000  4.050000e+04\n",
              "50%       11.860000  10000.000000     36.000000  5.900000e+04\n",
              "75%       14.590000  15000.000000     60.000000  8.234250e+04\n",
              "max       24.590000  35000.000000     60.000000  6.000000e+06"
            ],
            "text/html": [
              "\n",
              "  <div id=\"df-dc458d51-cd0a-4a9e-b115-bd3ef33f8eae\">\n",
              "    <div class=\"colab-df-container\">\n",
              "      <div>\n",
              "<style scoped>\n",
              "    .dataframe tbody tr th:only-of-type {\n",
              "        vertical-align: middle;\n",
              "    }\n",
              "\n",
              "    .dataframe tbody tr th {\n",
              "        vertical-align: top;\n",
              "    }\n",
              "\n",
              "    .dataframe thead th {\n",
              "        text-align: right;\n",
              "    }\n",
              "</style>\n",
              "<table border=\"1\" class=\"dataframe\">\n",
              "  <thead>\n",
              "    <tr style=\"text-align: right;\">\n",
              "      <th></th>\n",
              "      <th>int_rate</th>\n",
              "      <th>loan_amnt</th>\n",
              "      <th>term</th>\n",
              "      <th>annual_inc</th>\n",
              "    </tr>\n",
              "  </thead>\n",
              "  <tbody>\n",
              "    <tr>\n",
              "      <th>count</th>\n",
              "      <td>39786.000000</td>\n",
              "      <td>39786.000000</td>\n",
              "      <td>39786.000000</td>\n",
              "      <td>3.978600e+04</td>\n",
              "    </tr>\n",
              "    <tr>\n",
              "      <th>mean</th>\n",
              "      <td>12.027873</td>\n",
              "      <td>11231.360277</td>\n",
              "      <td>42.448499</td>\n",
              "      <td>6.897907e+04</td>\n",
              "    </tr>\n",
              "    <tr>\n",
              "      <th>std</th>\n",
              "      <td>3.727466</td>\n",
              "      <td>7464.542832</td>\n",
              "      <td>10.638782</td>\n",
              "      <td>6.376263e+04</td>\n",
              "    </tr>\n",
              "    <tr>\n",
              "      <th>min</th>\n",
              "      <td>5.420000</td>\n",
              "      <td>500.000000</td>\n",
              "      <td>36.000000</td>\n",
              "      <td>4.000000e+03</td>\n",
              "    </tr>\n",
              "    <tr>\n",
              "      <th>25%</th>\n",
              "      <td>9.250000</td>\n",
              "      <td>5500.000000</td>\n",
              "      <td>36.000000</td>\n",
              "      <td>4.050000e+04</td>\n",
              "    </tr>\n",
              "    <tr>\n",
              "      <th>50%</th>\n",
              "      <td>11.860000</td>\n",
              "      <td>10000.000000</td>\n",
              "      <td>36.000000</td>\n",
              "      <td>5.900000e+04</td>\n",
              "    </tr>\n",
              "    <tr>\n",
              "      <th>75%</th>\n",
              "      <td>14.590000</td>\n",
              "      <td>15000.000000</td>\n",
              "      <td>60.000000</td>\n",
              "      <td>8.234250e+04</td>\n",
              "    </tr>\n",
              "    <tr>\n",
              "      <th>max</th>\n",
              "      <td>24.590000</td>\n",
              "      <td>35000.000000</td>\n",
              "      <td>60.000000</td>\n",
              "      <td>6.000000e+06</td>\n",
              "    </tr>\n",
              "  </tbody>\n",
              "</table>\n",
              "</div>\n",
              "      <button class=\"colab-df-convert\" onclick=\"convertToInteractive('df-dc458d51-cd0a-4a9e-b115-bd3ef33f8eae')\"\n",
              "              title=\"Convert this dataframe to an interactive table.\"\n",
              "              style=\"display:none;\">\n",
              "        \n",
              "  <svg xmlns=\"http://www.w3.org/2000/svg\" height=\"24px\"viewBox=\"0 0 24 24\"\n",
              "       width=\"24px\">\n",
              "    <path d=\"M0 0h24v24H0V0z\" fill=\"none\"/>\n",
              "    <path d=\"M18.56 5.44l.94 2.06.94-2.06 2.06-.94-2.06-.94-.94-2.06-.94 2.06-2.06.94zm-11 1L8.5 8.5l.94-2.06 2.06-.94-2.06-.94L8.5 2.5l-.94 2.06-2.06.94zm10 10l.94 2.06.94-2.06 2.06-.94-2.06-.94-.94-2.06-.94 2.06-2.06.94z\"/><path d=\"M17.41 7.96l-1.37-1.37c-.4-.4-.92-.59-1.43-.59-.52 0-1.04.2-1.43.59L10.3 9.45l-7.72 7.72c-.78.78-.78 2.05 0 2.83L4 21.41c.39.39.9.59 1.41.59.51 0 1.02-.2 1.41-.59l7.78-7.78 2.81-2.81c.8-.78.8-2.07 0-2.86zM5.41 20L4 18.59l7.72-7.72 1.47 1.35L5.41 20z\"/>\n",
              "  </svg>\n",
              "      </button>\n",
              "      \n",
              "  <style>\n",
              "    .colab-df-container {\n",
              "      display:flex;\n",
              "      flex-wrap:wrap;\n",
              "      gap: 12px;\n",
              "    }\n",
              "\n",
              "    .colab-df-convert {\n",
              "      background-color: #E8F0FE;\n",
              "      border: none;\n",
              "      border-radius: 50%;\n",
              "      cursor: pointer;\n",
              "      display: none;\n",
              "      fill: #1967D2;\n",
              "      height: 32px;\n",
              "      padding: 0 0 0 0;\n",
              "      width: 32px;\n",
              "    }\n",
              "\n",
              "    .colab-df-convert:hover {\n",
              "      background-color: #E2EBFA;\n",
              "      box-shadow: 0px 1px 2px rgba(60, 64, 67, 0.3), 0px 1px 3px 1px rgba(60, 64, 67, 0.15);\n",
              "      fill: #174EA6;\n",
              "    }\n",
              "\n",
              "    [theme=dark] .colab-df-convert {\n",
              "      background-color: #3B4455;\n",
              "      fill: #D2E3FC;\n",
              "    }\n",
              "\n",
              "    [theme=dark] .colab-df-convert:hover {\n",
              "      background-color: #434B5C;\n",
              "      box-shadow: 0px 1px 3px 1px rgba(0, 0, 0, 0.15);\n",
              "      filter: drop-shadow(0px 1px 2px rgba(0, 0, 0, 0.3));\n",
              "      fill: #FFFFFF;\n",
              "    }\n",
              "  </style>\n",
              "\n",
              "      <script>\n",
              "        const buttonEl =\n",
              "          document.querySelector('#df-dc458d51-cd0a-4a9e-b115-bd3ef33f8eae button.colab-df-convert');\n",
              "        buttonEl.style.display =\n",
              "          google.colab.kernel.accessAllowed ? 'block' : 'none';\n",
              "\n",
              "        async function convertToInteractive(key) {\n",
              "          const element = document.querySelector('#df-dc458d51-cd0a-4a9e-b115-bd3ef33f8eae');\n",
              "          const dataTable =\n",
              "            await google.colab.kernel.invokeFunction('convertToInteractive',\n",
              "                                                     [key], {});\n",
              "          if (!dataTable) return;\n",
              "\n",
              "          const docLinkHtml = 'Like what you see? Visit the ' +\n",
              "            '<a target=\"_blank\" href=https://colab.research.google.com/notebooks/data_table.ipynb>data table notebook</a>'\n",
              "            + ' to learn more about interactive tables.';\n",
              "          element.innerHTML = '';\n",
              "          dataTable['output_type'] = 'display_data';\n",
              "          await google.colab.output.renderOutput(dataTable, element);\n",
              "          const docLink = document.createElement('div');\n",
              "          docLink.innerHTML = docLinkHtml;\n",
              "          element.appendChild(docLink);\n",
              "        }\n",
              "      </script>\n",
              "    </div>\n",
              "  </div>\n",
              "  "
            ]
          },
          "metadata": {},
          "execution_count": 6
        }
      ]
    },
    {
      "cell_type": "markdown",
      "source": [
        "Put dataset into dateframe"
      ],
      "metadata": {
        "id": "enJyfgr9cXEj"
      }
    },
    {
      "cell_type": "code",
      "source": [
        "df = pd.DataFrame(df)"
      ],
      "metadata": {
        "id": "CFoUNQvWL4C-"
      },
      "execution_count": null,
      "outputs": []
    },
    {
      "cell_type": "code",
      "source": [
        "df.shape"
      ],
      "metadata": {
        "colab": {
          "base_uri": "https://localhost:8080/"
        },
        "id": "t35mJk0mMKmx",
        "outputId": "a06122af-76d1-4155-9049-958b749e7f6f"
      },
      "execution_count": null,
      "outputs": [
        {
          "output_type": "execute_result",
          "data": {
            "text/plain": [
              "(39786, 7)"
            ]
          },
          "metadata": {},
          "execution_count": 8
        }
      ]
    },
    {
      "cell_type": "markdown",
      "source": [
        "After checking missing value, there is no missing value in dataset"
      ],
      "metadata": {
        "id": "W1jAs-Incf1M"
      }
    },
    {
      "cell_type": "code",
      "source": [
        "print(\"Missing values distribution: \",df.isnull().mean())\n",
        "print(\"\")"
      ],
      "metadata": {
        "colab": {
          "base_uri": "https://localhost:8080/"
        },
        "id": "6T-5c3oDL9c8",
        "outputId": "1aab35c8-b7dc-4554-bf9f-4d3b1ee1a13c"
      },
      "execution_count": null,
      "outputs": [
        {
          "output_type": "stream",
          "name": "stdout",
          "text": [
            "Missing values distribution:  int_rate          0.0\n",
            "loan_amnt         0.0\n",
            "term              0.0\n",
            "grade             0.0\n",
            "home_ownership    0.0\n",
            "annual_inc        0.0\n",
            "purpose           0.0\n",
            "dtype: float64\n",
            "\n"
          ]
        }
      ]
    },
    {
      "cell_type": "code",
      "source": [
        "df.isna().sum()"
      ],
      "metadata": {
        "colab": {
          "base_uri": "https://localhost:8080/"
        },
        "id": "Lg-D-rPyMZMr",
        "outputId": "fce56a7a-d60e-43d8-ba06-ee32fb6d1bb6"
      },
      "execution_count": null,
      "outputs": [
        {
          "output_type": "execute_result",
          "data": {
            "text/plain": [
              "int_rate          0\n",
              "loan_amnt         0\n",
              "term              0\n",
              "grade             0\n",
              "home_ownership    0\n",
              "annual_inc        0\n",
              "purpose           0\n",
              "dtype: int64"
            ]
          },
          "metadata": {},
          "execution_count": 10
        }
      ]
    },
    {
      "cell_type": "markdown",
      "source": [
        "Checking variable by grouping with different catagorical variable"
      ],
      "metadata": {
        "id": "SlzaHzWTdQra"
      }
    },
    {
      "cell_type": "code",
      "source": [
        "df.groupby(by=\"home_ownership\").mean()\n"
      ],
      "metadata": {
        "colab": {
          "base_uri": "https://localhost:8080/",
          "height": 238
        },
        "id": "FJSISEbJMzMP",
        "outputId": "3083ba19-d096-44b9-85cb-f09fd94e98b0"
      },
      "execution_count": null,
      "outputs": [
        {
          "output_type": "execute_result",
          "data": {
            "text/plain": [
              "                 int_rate     loan_amnt       term    annual_inc\n",
              "home_ownership                                                  \n",
              "MORTGAGE        11.781852  12709.060611  43.727504  83112.599411\n",
              "NONE             8.696667   5600.000000  36.000000  80733.333333\n",
              "OTHER           12.040918  10663.010204  36.244898  71309.714286\n",
              "OWN             11.773965  10269.973890  41.976501  58878.603153\n",
              "RENT            12.299678  10008.110001  41.361243  57375.209350"
            ],
            "text/html": [
              "\n",
              "  <div id=\"df-d94a2f94-65b9-42b6-8146-ca57f130698c\">\n",
              "    <div class=\"colab-df-container\">\n",
              "      <div>\n",
              "<style scoped>\n",
              "    .dataframe tbody tr th:only-of-type {\n",
              "        vertical-align: middle;\n",
              "    }\n",
              "\n",
              "    .dataframe tbody tr th {\n",
              "        vertical-align: top;\n",
              "    }\n",
              "\n",
              "    .dataframe thead th {\n",
              "        text-align: right;\n",
              "    }\n",
              "</style>\n",
              "<table border=\"1\" class=\"dataframe\">\n",
              "  <thead>\n",
              "    <tr style=\"text-align: right;\">\n",
              "      <th></th>\n",
              "      <th>int_rate</th>\n",
              "      <th>loan_amnt</th>\n",
              "      <th>term</th>\n",
              "      <th>annual_inc</th>\n",
              "    </tr>\n",
              "    <tr>\n",
              "      <th>home_ownership</th>\n",
              "      <th></th>\n",
              "      <th></th>\n",
              "      <th></th>\n",
              "      <th></th>\n",
              "    </tr>\n",
              "  </thead>\n",
              "  <tbody>\n",
              "    <tr>\n",
              "      <th>MORTGAGE</th>\n",
              "      <td>11.781852</td>\n",
              "      <td>12709.060611</td>\n",
              "      <td>43.727504</td>\n",
              "      <td>83112.599411</td>\n",
              "    </tr>\n",
              "    <tr>\n",
              "      <th>NONE</th>\n",
              "      <td>8.696667</td>\n",
              "      <td>5600.000000</td>\n",
              "      <td>36.000000</td>\n",
              "      <td>80733.333333</td>\n",
              "    </tr>\n",
              "    <tr>\n",
              "      <th>OTHER</th>\n",
              "      <td>12.040918</td>\n",
              "      <td>10663.010204</td>\n",
              "      <td>36.244898</td>\n",
              "      <td>71309.714286</td>\n",
              "    </tr>\n",
              "    <tr>\n",
              "      <th>OWN</th>\n",
              "      <td>11.773965</td>\n",
              "      <td>10269.973890</td>\n",
              "      <td>41.976501</td>\n",
              "      <td>58878.603153</td>\n",
              "    </tr>\n",
              "    <tr>\n",
              "      <th>RENT</th>\n",
              "      <td>12.299678</td>\n",
              "      <td>10008.110001</td>\n",
              "      <td>41.361243</td>\n",
              "      <td>57375.209350</td>\n",
              "    </tr>\n",
              "  </tbody>\n",
              "</table>\n",
              "</div>\n",
              "      <button class=\"colab-df-convert\" onclick=\"convertToInteractive('df-d94a2f94-65b9-42b6-8146-ca57f130698c')\"\n",
              "              title=\"Convert this dataframe to an interactive table.\"\n",
              "              style=\"display:none;\">\n",
              "        \n",
              "  <svg xmlns=\"http://www.w3.org/2000/svg\" height=\"24px\"viewBox=\"0 0 24 24\"\n",
              "       width=\"24px\">\n",
              "    <path d=\"M0 0h24v24H0V0z\" fill=\"none\"/>\n",
              "    <path d=\"M18.56 5.44l.94 2.06.94-2.06 2.06-.94-2.06-.94-.94-2.06-.94 2.06-2.06.94zm-11 1L8.5 8.5l.94-2.06 2.06-.94-2.06-.94L8.5 2.5l-.94 2.06-2.06.94zm10 10l.94 2.06.94-2.06 2.06-.94-2.06-.94-.94-2.06-.94 2.06-2.06.94z\"/><path d=\"M17.41 7.96l-1.37-1.37c-.4-.4-.92-.59-1.43-.59-.52 0-1.04.2-1.43.59L10.3 9.45l-7.72 7.72c-.78.78-.78 2.05 0 2.83L4 21.41c.39.39.9.59 1.41.59.51 0 1.02-.2 1.41-.59l7.78-7.78 2.81-2.81c.8-.78.8-2.07 0-2.86zM5.41 20L4 18.59l7.72-7.72 1.47 1.35L5.41 20z\"/>\n",
              "  </svg>\n",
              "      </button>\n",
              "      \n",
              "  <style>\n",
              "    .colab-df-container {\n",
              "      display:flex;\n",
              "      flex-wrap:wrap;\n",
              "      gap: 12px;\n",
              "    }\n",
              "\n",
              "    .colab-df-convert {\n",
              "      background-color: #E8F0FE;\n",
              "      border: none;\n",
              "      border-radius: 50%;\n",
              "      cursor: pointer;\n",
              "      display: none;\n",
              "      fill: #1967D2;\n",
              "      height: 32px;\n",
              "      padding: 0 0 0 0;\n",
              "      width: 32px;\n",
              "    }\n",
              "\n",
              "    .colab-df-convert:hover {\n",
              "      background-color: #E2EBFA;\n",
              "      box-shadow: 0px 1px 2px rgba(60, 64, 67, 0.3), 0px 1px 3px 1px rgba(60, 64, 67, 0.15);\n",
              "      fill: #174EA6;\n",
              "    }\n",
              "\n",
              "    [theme=dark] .colab-df-convert {\n",
              "      background-color: #3B4455;\n",
              "      fill: #D2E3FC;\n",
              "    }\n",
              "\n",
              "    [theme=dark] .colab-df-convert:hover {\n",
              "      background-color: #434B5C;\n",
              "      box-shadow: 0px 1px 3px 1px rgba(0, 0, 0, 0.15);\n",
              "      filter: drop-shadow(0px 1px 2px rgba(0, 0, 0, 0.3));\n",
              "      fill: #FFFFFF;\n",
              "    }\n",
              "  </style>\n",
              "\n",
              "      <script>\n",
              "        const buttonEl =\n",
              "          document.querySelector('#df-d94a2f94-65b9-42b6-8146-ca57f130698c button.colab-df-convert');\n",
              "        buttonEl.style.display =\n",
              "          google.colab.kernel.accessAllowed ? 'block' : 'none';\n",
              "\n",
              "        async function convertToInteractive(key) {\n",
              "          const element = document.querySelector('#df-d94a2f94-65b9-42b6-8146-ca57f130698c');\n",
              "          const dataTable =\n",
              "            await google.colab.kernel.invokeFunction('convertToInteractive',\n",
              "                                                     [key], {});\n",
              "          if (!dataTable) return;\n",
              "\n",
              "          const docLinkHtml = 'Like what you see? Visit the ' +\n",
              "            '<a target=\"_blank\" href=https://colab.research.google.com/notebooks/data_table.ipynb>data table notebook</a>'\n",
              "            + ' to learn more about interactive tables.';\n",
              "          element.innerHTML = '';\n",
              "          dataTable['output_type'] = 'display_data';\n",
              "          await google.colab.output.renderOutput(dataTable, element);\n",
              "          const docLink = document.createElement('div');\n",
              "          docLink.innerHTML = docLinkHtml;\n",
              "          element.appendChild(docLink);\n",
              "        }\n",
              "      </script>\n",
              "    </div>\n",
              "  </div>\n",
              "  "
            ]
          },
          "metadata": {},
          "execution_count": 19
        }
      ]
    },
    {
      "cell_type": "code",
      "source": [
        "df.groupby(by=\"purpose\").mean()"
      ],
      "metadata": {
        "colab": {
          "base_uri": "https://localhost:8080/",
          "height": 520
        },
        "id": "z8YAn0S0c_R1",
        "outputId": "d487b1c0-2c2b-4695-c15a-a0fc7dff26b5"
      },
      "execution_count": null,
      "outputs": [
        {
          "output_type": "execute_result",
          "data": {
            "text/plain": [
              "                     int_rate     loan_amnt       term    annual_inc\n",
              "purpose                                                             \n",
              "car                 10.538040   6775.483559  44.711799  61810.946834\n",
              "credit_card         11.708955  11737.215301  40.886899  70467.936379\n",
              "debt_consolidation  12.493888  12707.583262  43.125723  67319.200575\n",
              "educational         11.650831   6810.461538  37.181538  53471.374092\n",
              "home_improvement    11.412168  11553.174204  43.284422  89781.463317\n",
              "house               12.248246  13128.403141  43.664921  77105.340733\n",
              "major_purchase      10.847637   8160.843236  41.089580  66388.601732\n",
              "medical             11.499309   8311.834532  41.766906  68276.596532\n",
              "moving              11.563619   6650.171527  40.116638  61801.578302\n",
              "other               11.821477   8070.051237  41.176706  63145.209363\n",
              "renewable_energy    11.437573   8717.233010  42.291262  77490.006117\n",
              "small_business      13.013839  13579.778809  43.759694  75053.128187\n",
              "vacation            10.856089   5463.320210  39.779528  59218.933465\n",
              "wedding             11.890823   9878.270042  41.544304  68675.240032"
            ],
            "text/html": [
              "\n",
              "  <div id=\"df-084a4a96-0182-45dd-9e65-cd0d03cdc507\">\n",
              "    <div class=\"colab-df-container\">\n",
              "      <div>\n",
              "<style scoped>\n",
              "    .dataframe tbody tr th:only-of-type {\n",
              "        vertical-align: middle;\n",
              "    }\n",
              "\n",
              "    .dataframe tbody tr th {\n",
              "        vertical-align: top;\n",
              "    }\n",
              "\n",
              "    .dataframe thead th {\n",
              "        text-align: right;\n",
              "    }\n",
              "</style>\n",
              "<table border=\"1\" class=\"dataframe\">\n",
              "  <thead>\n",
              "    <tr style=\"text-align: right;\">\n",
              "      <th></th>\n",
              "      <th>int_rate</th>\n",
              "      <th>loan_amnt</th>\n",
              "      <th>term</th>\n",
              "      <th>annual_inc</th>\n",
              "    </tr>\n",
              "    <tr>\n",
              "      <th>purpose</th>\n",
              "      <th></th>\n",
              "      <th></th>\n",
              "      <th></th>\n",
              "      <th></th>\n",
              "    </tr>\n",
              "  </thead>\n",
              "  <tbody>\n",
              "    <tr>\n",
              "      <th>car</th>\n",
              "      <td>10.538040</td>\n",
              "      <td>6775.483559</td>\n",
              "      <td>44.711799</td>\n",
              "      <td>61810.946834</td>\n",
              "    </tr>\n",
              "    <tr>\n",
              "      <th>credit_card</th>\n",
              "      <td>11.708955</td>\n",
              "      <td>11737.215301</td>\n",
              "      <td>40.886899</td>\n",
              "      <td>70467.936379</td>\n",
              "    </tr>\n",
              "    <tr>\n",
              "      <th>debt_consolidation</th>\n",
              "      <td>12.493888</td>\n",
              "      <td>12707.583262</td>\n",
              "      <td>43.125723</td>\n",
              "      <td>67319.200575</td>\n",
              "    </tr>\n",
              "    <tr>\n",
              "      <th>educational</th>\n",
              "      <td>11.650831</td>\n",
              "      <td>6810.461538</td>\n",
              "      <td>37.181538</td>\n",
              "      <td>53471.374092</td>\n",
              "    </tr>\n",
              "    <tr>\n",
              "      <th>home_improvement</th>\n",
              "      <td>11.412168</td>\n",
              "      <td>11553.174204</td>\n",
              "      <td>43.284422</td>\n",
              "      <td>89781.463317</td>\n",
              "    </tr>\n",
              "    <tr>\n",
              "      <th>house</th>\n",
              "      <td>12.248246</td>\n",
              "      <td>13128.403141</td>\n",
              "      <td>43.664921</td>\n",
              "      <td>77105.340733</td>\n",
              "    </tr>\n",
              "    <tr>\n",
              "      <th>major_purchase</th>\n",
              "      <td>10.847637</td>\n",
              "      <td>8160.843236</td>\n",
              "      <td>41.089580</td>\n",
              "      <td>66388.601732</td>\n",
              "    </tr>\n",
              "    <tr>\n",
              "      <th>medical</th>\n",
              "      <td>11.499309</td>\n",
              "      <td>8311.834532</td>\n",
              "      <td>41.766906</td>\n",
              "      <td>68276.596532</td>\n",
              "    </tr>\n",
              "    <tr>\n",
              "      <th>moving</th>\n",
              "      <td>11.563619</td>\n",
              "      <td>6650.171527</td>\n",
              "      <td>40.116638</td>\n",
              "      <td>61801.578302</td>\n",
              "    </tr>\n",
              "    <tr>\n",
              "      <th>other</th>\n",
              "      <td>11.821477</td>\n",
              "      <td>8070.051237</td>\n",
              "      <td>41.176706</td>\n",
              "      <td>63145.209363</td>\n",
              "    </tr>\n",
              "    <tr>\n",
              "      <th>renewable_energy</th>\n",
              "      <td>11.437573</td>\n",
              "      <td>8717.233010</td>\n",
              "      <td>42.291262</td>\n",
              "      <td>77490.006117</td>\n",
              "    </tr>\n",
              "    <tr>\n",
              "      <th>small_business</th>\n",
              "      <td>13.013839</td>\n",
              "      <td>13579.778809</td>\n",
              "      <td>43.759694</td>\n",
              "      <td>75053.128187</td>\n",
              "    </tr>\n",
              "    <tr>\n",
              "      <th>vacation</th>\n",
              "      <td>10.856089</td>\n",
              "      <td>5463.320210</td>\n",
              "      <td>39.779528</td>\n",
              "      <td>59218.933465</td>\n",
              "    </tr>\n",
              "    <tr>\n",
              "      <th>wedding</th>\n",
              "      <td>11.890823</td>\n",
              "      <td>9878.270042</td>\n",
              "      <td>41.544304</td>\n",
              "      <td>68675.240032</td>\n",
              "    </tr>\n",
              "  </tbody>\n",
              "</table>\n",
              "</div>\n",
              "      <button class=\"colab-df-convert\" onclick=\"convertToInteractive('df-084a4a96-0182-45dd-9e65-cd0d03cdc507')\"\n",
              "              title=\"Convert this dataframe to an interactive table.\"\n",
              "              style=\"display:none;\">\n",
              "        \n",
              "  <svg xmlns=\"http://www.w3.org/2000/svg\" height=\"24px\"viewBox=\"0 0 24 24\"\n",
              "       width=\"24px\">\n",
              "    <path d=\"M0 0h24v24H0V0z\" fill=\"none\"/>\n",
              "    <path d=\"M18.56 5.44l.94 2.06.94-2.06 2.06-.94-2.06-.94-.94-2.06-.94 2.06-2.06.94zm-11 1L8.5 8.5l.94-2.06 2.06-.94-2.06-.94L8.5 2.5l-.94 2.06-2.06.94zm10 10l.94 2.06.94-2.06 2.06-.94-2.06-.94-.94-2.06-.94 2.06-2.06.94z\"/><path d=\"M17.41 7.96l-1.37-1.37c-.4-.4-.92-.59-1.43-.59-.52 0-1.04.2-1.43.59L10.3 9.45l-7.72 7.72c-.78.78-.78 2.05 0 2.83L4 21.41c.39.39.9.59 1.41.59.51 0 1.02-.2 1.41-.59l7.78-7.78 2.81-2.81c.8-.78.8-2.07 0-2.86zM5.41 20L4 18.59l7.72-7.72 1.47 1.35L5.41 20z\"/>\n",
              "  </svg>\n",
              "      </button>\n",
              "      \n",
              "  <style>\n",
              "    .colab-df-container {\n",
              "      display:flex;\n",
              "      flex-wrap:wrap;\n",
              "      gap: 12px;\n",
              "    }\n",
              "\n",
              "    .colab-df-convert {\n",
              "      background-color: #E8F0FE;\n",
              "      border: none;\n",
              "      border-radius: 50%;\n",
              "      cursor: pointer;\n",
              "      display: none;\n",
              "      fill: #1967D2;\n",
              "      height: 32px;\n",
              "      padding: 0 0 0 0;\n",
              "      width: 32px;\n",
              "    }\n",
              "\n",
              "    .colab-df-convert:hover {\n",
              "      background-color: #E2EBFA;\n",
              "      box-shadow: 0px 1px 2px rgba(60, 64, 67, 0.3), 0px 1px 3px 1px rgba(60, 64, 67, 0.15);\n",
              "      fill: #174EA6;\n",
              "    }\n",
              "\n",
              "    [theme=dark] .colab-df-convert {\n",
              "      background-color: #3B4455;\n",
              "      fill: #D2E3FC;\n",
              "    }\n",
              "\n",
              "    [theme=dark] .colab-df-convert:hover {\n",
              "      background-color: #434B5C;\n",
              "      box-shadow: 0px 1px 3px 1px rgba(0, 0, 0, 0.15);\n",
              "      filter: drop-shadow(0px 1px 2px rgba(0, 0, 0, 0.3));\n",
              "      fill: #FFFFFF;\n",
              "    }\n",
              "  </style>\n",
              "\n",
              "      <script>\n",
              "        const buttonEl =\n",
              "          document.querySelector('#df-084a4a96-0182-45dd-9e65-cd0d03cdc507 button.colab-df-convert');\n",
              "        buttonEl.style.display =\n",
              "          google.colab.kernel.accessAllowed ? 'block' : 'none';\n",
              "\n",
              "        async function convertToInteractive(key) {\n",
              "          const element = document.querySelector('#df-084a4a96-0182-45dd-9e65-cd0d03cdc507');\n",
              "          const dataTable =\n",
              "            await google.colab.kernel.invokeFunction('convertToInteractive',\n",
              "                                                     [key], {});\n",
              "          if (!dataTable) return;\n",
              "\n",
              "          const docLinkHtml = 'Like what you see? Visit the ' +\n",
              "            '<a target=\"_blank\" href=https://colab.research.google.com/notebooks/data_table.ipynb>data table notebook</a>'\n",
              "            + ' to learn more about interactive tables.';\n",
              "          element.innerHTML = '';\n",
              "          dataTable['output_type'] = 'display_data';\n",
              "          await google.colab.output.renderOutput(dataTable, element);\n",
              "          const docLink = document.createElement('div');\n",
              "          docLink.innerHTML = docLinkHtml;\n",
              "          element.appendChild(docLink);\n",
              "        }\n",
              "      </script>\n",
              "    </div>\n",
              "  </div>\n",
              "  "
            ]
          },
          "metadata": {},
          "execution_count": 20
        }
      ]
    },
    {
      "cell_type": "code",
      "source": [
        "df[\"purpose\"].value_counts()"
      ],
      "metadata": {
        "colab": {
          "base_uri": "https://localhost:8080/"
        },
        "id": "MJFnAQpyOFQa",
        "outputId": "e56f3522-7ef8-44de-be35-a69d3ca31931"
      },
      "execution_count": null,
      "outputs": [
        {
          "output_type": "execute_result",
          "data": {
            "text/plain": [
              "debt_consolidation    18676\n",
              "credit_card            5137\n",
              "other                  4001\n",
              "home_improvement       2985\n",
              "major_purchase         2188\n",
              "small_business         1831\n",
              "car                    1551\n",
              "wedding                 948\n",
              "medical                 695\n",
              "moving                  583\n",
              "house                   382\n",
              "vacation                381\n",
              "educational             325\n",
              "renewable_energy        103\n",
              "Name: purpose, dtype: int64"
            ]
          },
          "metadata": {},
          "execution_count": 21
        }
      ]
    },
    {
      "cell_type": "code",
      "source": [
        "df[\"home_ownership\"].value_counts()"
      ],
      "metadata": {
        "colab": {
          "base_uri": "https://localhost:8080/"
        },
        "id": "66MQxgkkOcUj",
        "outputId": "8d2236ec-6abf-48cd-9e51-9a7468ae0c21"
      },
      "execution_count": null,
      "outputs": [
        {
          "output_type": "execute_result",
          "data": {
            "text/plain": [
              "RENT        18918\n",
              "MORTGAGE    17703\n",
              "OWN          3064\n",
              "OTHER          98\n",
              "NONE            3\n",
              "Name: home_ownership, dtype: int64"
            ]
          },
          "metadata": {},
          "execution_count": 22
        }
      ]
    },
    {
      "cell_type": "markdown",
      "source": [
        "1. Mortgage has the highest ratios \n",
        "2. Grade B has highest value counts but G is the lowest"
      ],
      "metadata": {
        "id": "iPKhukOVgawn"
      }
    },
    {
      "cell_type": "code",
      "source": [
        "#Define plot size\n",
        "plt.figure(figsize=[6,6])\n",
        "\n",
        "#Define column to use\n",
        "data = df[\"home_ownership\"].value_counts()\n",
        "#Define labels\n",
        "labels = [\"MORTGAGE\",\"NONE\",\"OTHER\",\"OWN\",\"RENT\"]\n",
        "#Define color palette\n",
        "colors = sns.color_palette('pastel')\n",
        "#Create pie chart\n",
        "plt.pie(data,labels=labels,colors=colors, autopct='%.0f%%')\n",
        "plt.title(\"Proportion of home_ownership\")\n",
        "plt.show()"
      ],
      "metadata": {
        "colab": {
          "base_uri": "https://localhost:8080/",
          "height": 373
        },
        "id": "zVO3c9qeOhty",
        "outputId": "3a57d00b-66cd-4aaf-a66c-ab71f218fad5"
      },
      "execution_count": null,
      "outputs": [
        {
          "output_type": "display_data",
          "data": {
            "text/plain": [
              "<Figure size 432x432 with 1 Axes>"
            ],
            "image/png": "[encoded data removed]"
          },
          "metadata": {}
        }
      ]
    },
    {
      "cell_type": "code",
      "source": [
        "df.grade.value_counts().plot.bar()\n",
        "print(df.grade.value_counts(), '\\n')"
      ],
      "metadata": {
        "colab": {
          "base_uri": "https://localhost:8080/",
          "height": 419
        },
        "id": "Cv2WFzEDPe_t",
        "outputId": "4d6130bd-5c58-44aa-f457-d6aabc33924c"
      },
      "execution_count": null,
      "outputs": [
        {
          "output_type": "stream",
          "name": "stdout",
          "text": [
            "B    12035\n",
            "A    10085\n",
            "C     8111\n",
            "D     5325\n",
            "E     2858\n",
            "F     1054\n",
            "G      318\n",
            "Name: grade, dtype: int64 \n",
            "\n"
          ]
        },
        {
          "output_type": "display_data",
          "data": {
            "text/plain": [
              "<Figure size 432x288 with 1 Axes>"
            ],
            "image/png": "[encoded data removed]"
          },
          "metadata": {
            "needs_background": "light"
          }
        }
      ]
    },
    {
      "cell_type": "markdown",
      "source": [
        "Frequency table\n",
        "1. Term 36 is higher than 60 \n",
        "2. purpose - debt consolidation is the highest\n",
        "3. Housepwnership - Rent is slightly higher than mortgage"
      ],
      "metadata": {
        "id": "5xhYzQqigzm2"
      }
    },
    {
      "cell_type": "code",
      "source": [
        "categorical_features = ['term','purpose','home_ownership','grade']\n",
        "for col in categorical_features:\n",
        "    counts = df[col].value_counts().sort_index()\n",
        "    fig = plt.figure(figsize=(9, 6))\n",
        "    ax = fig.gca()\n",
        "    counts.plot.bar(ax = ax,color= 'orange')\n",
        "    ax.set_title(col + 'counts',color= 'blue')\n",
        "    ax.set_xlabel(col) \n",
        "    ax.set_ylabel(\"Frequency\")\n",
        "plt.show()"
      ],
      "metadata": {
        "colab": {
          "base_uri": "https://localhost:8080/",
          "height": 1000
        },
        "id": "dmGxwd2nXN7o",
        "outputId": "4c0d1065-7eea-496f-d0db-b066120c36fd"
      },
      "execution_count": null,
      "outputs": [
        {
          "output_type": "display_data",
          "data": {
            "text/plain": [
              "<Figure size 648x432 with 1 Axes>"
            ],
            "image/png": "[encoded data removed]"
          },
          "metadata": {
            "needs_background": "light"
          }
        },
        {
          "output_type": "display_data",
          "data": {
            "text/plain": [
              "<Figure size 648x432 with 1 Axes>"
            ],
            "image/png": "[encoded data removed]"
          },
          "metadata": {
            "needs_background": "light"
          }
        },
        {
          "output_type": "display_data",
          "data": {
            "text/plain": [
              "<Figure size 648x432 with 1 Axes>"
            ],
            "image/png": "[encoded data removed]"
          },
          "metadata": {
            "needs_background": "light"
          }
        },
        {
          "output_type": "display_data",
          "data": {
            "text/plain": [
              "<Figure size 648x432 with 1 Axes>"
            ],
            "image/png": "[encoded data removed]"
          },
          "metadata": {
            "needs_background": "light"
          }
        }
      ]
    },
    {
      "cell_type": "markdown",
      "source": [
        "Interest Rates \n",
        "   1. Range between 10-15 is the highest\n",
        "   2. Range over 15 starts decreasing"
      ],
      "metadata": {
        "id": "MaxpaJZWhVC0"
      }
    },
    {
      "cell_type": "code",
      "source": [
        "#Frequency Distribution of Interest Rates\n",
        "plt.figure(figsize=(15,6))\n",
        "plt.suptitle('Frequency Distribution of Interest Rates', fontsize=14, fontweight=\"bold\")\n",
        "plt.subplot(1,2,1)\n",
        "sns.distplot(df['int_rate'], color=\"orange\", label=\"No.Words\", bins=35, hist_kws={\"alpha\": 0.5,\"rwidth\":0.8})\n",
        "plt.xlabel(\"Int_rate\", fontsize=12)\n",
        "plt.ylabel(\"Frequency\", fontsize=12)"
      ],
      "metadata": {
        "colab": {
          "base_uri": "https://localhost:8080/",
          "height": 506
        },
        "id": "0WOAPjPIPsAP",
        "outputId": "387419da-daa1-4e91-f024-7a76d494afd1"
      },
      "execution_count": null,
      "outputs": [
        {
          "output_type": "stream",
          "name": "stderr",
          "text": [
            "/usr/local/lib/python3.8/dist-packages/seaborn/distributions.py:2619: FutureWarning: `distplot` is a deprecated function and will be removed in a future version. Please adapt your code to use either `displot` (a figure-level function with similar flexibility) or `histplot` (an axes-level function for histograms).\n",
            "  warnings.warn(msg, FutureWarning)\n"
          ]
        },
        {
          "output_type": "execute_result",
          "data": {
            "text/plain": [
              "Text(0, 0.5, 'Frequency')"
            ]
          },
          "metadata": {},
          "execution_count": 30
        },
        {
          "output_type": "display_data",
          "data": {
            "text/plain": [
              "<Figure size 1080x432 with 1 Axes>"
            ],
            "image/png": "[encoded data removed]"
          },
          "metadata": {
            "needs_background": "light"
          }
        }
      ]
    },
    {
      "cell_type": "markdown",
      "source": [
        "Frequency Loan amount  \n",
        " 1. Loan amount is the highest between range 5000-10000 \n",
        " 2. starts decreasing after 10000"
      ],
      "metadata": {
        "id": "JP_iMNQ_hmLD"
      }
    },
    {
      "cell_type": "code",
      "source": [
        "#Frequency Distribution of loan_amnt\n",
        "plt.figure(figsize=(15,6))\n",
        "plt.suptitle('Frequency Distribution of loan_amnt', fontsize=14, fontweight=\"bold\")\n",
        "plt.subplot(1,2,1)\n",
        "sns.distplot(df['loan_amnt'], color=\"Green\", label=\"No.Words\", bins=35, hist_kws={\"alpha\": 0.5,\"rwidth\":0.8})\n",
        "\n",
        "plt.xlabel(\"loan_amnt\", fontsize=12)\n",
        "plt.ylabel(\"Frequency\", fontsize=12)"
      ],
      "metadata": {
        "colab": {
          "base_uri": "https://localhost:8080/",
          "height": 506
        },
        "id": "CCkDNNcoPWM2",
        "outputId": "733dd5e0-ccdf-4d8c-c029-0adf82744571"
      },
      "execution_count": null,
      "outputs": [
        {
          "output_type": "stream",
          "name": "stderr",
          "text": [
            "/usr/local/lib/python3.8/dist-packages/seaborn/distributions.py:2619: FutureWarning: `distplot` is a deprecated function and will be removed in a future version. Please adapt your code to use either `displot` (a figure-level function with similar flexibility) or `histplot` (an axes-level function for histograms).\n",
            "  warnings.warn(msg, FutureWarning)\n"
          ]
        },
        {
          "output_type": "execute_result",
          "data": {
            "text/plain": [
              "Text(0, 0.5, 'Frequency')"
            ]
          },
          "metadata": {},
          "execution_count": 31
        },
        {
          "output_type": "display_data",
          "data": {
            "text/plain": [
              "<Figure size 1080x432 with 1 Axes>"
            ],
            "image/png": "[encoded data removed]"
          },
          "metadata": {
            "needs_background": "light"
          }
        }
      ]
    },
    {
      "cell_type": "code",
      "source": [
        "df[\"term\"].value_counts()"
      ],
      "metadata": {
        "colab": {
          "base_uri": "https://localhost:8080/"
        },
        "id": "p3Gj-58cVBAS",
        "outputId": "00b333ef-4336-4f9e-d014-ee140bcc66d7"
      },
      "execution_count": null,
      "outputs": [
        {
          "output_type": "execute_result",
          "data": {
            "text/plain": [
              "36    29096\n",
              "60    10690\n",
              "Name: term, dtype: int64"
            ]
          },
          "metadata": {},
          "execution_count": 32
        }
      ]
    },
    {
      "cell_type": "code",
      "source": [
        "plt.figure(figsize=[8,5])\n",
        "sns.histplot(data=df,x=\"term\")\n",
        "plt.title(\"term\")\n",
        "plt.show()\n"
      ],
      "metadata": {
        "colab": {
          "base_uri": "https://localhost:8080/",
          "height": 350
        },
        "id": "qfalNa1mU4KS",
        "outputId": "33806cc7-7bcf-4a2a-a5ad-b57017f45626"
      },
      "execution_count": null,
      "outputs": [
        {
          "output_type": "display_data",
          "data": {
            "text/plain": [
              "<Figure size 576x360 with 1 Axes>"
            ],
            "image/png": "[encoded data removed]"
          },
          "metadata": {
            "needs_background": "light"
          }
        }
      ]
    },
    {
      "cell_type": "code",
      "source": [
        "numeric_features=['loan_amnt','annual_inc']\n",
        "for col in numeric_features:\n",
        "    fig = plt.figure(figsize=(9, 6))\n",
        "    ax = fig.gca()\n",
        "    feature = df[col]\n",
        "    feature.hist(bins=100, ax = ax)\n",
        "    ax.axvline(feature.mean(), color='green', linewidth=2)\n",
        "    ax.axvline(feature.median(), color='blue',linewidth=2)\n",
        "    ax.set_title(col)\n",
        "plt.show()"
      ],
      "metadata": {
        "colab": {
          "base_uri": "https://localhost:8080/",
          "height": 776
        },
        "id": "z_AN1oIkVra_",
        "outputId": "6bd6c126-c227-40a6-98e2-848131dd4fe4"
      },
      "execution_count": null,
      "outputs": [
        {
          "output_type": "display_data",
          "data": {
            "text/plain": [
              "<Figure size 648x432 with 1 Axes>"
            ],
            "image/png": "[encoded data removed]"
          },
          "metadata": {
            "needs_background": "light"
          }
        },
        {
          "output_type": "display_data",
          "data": {
            "text/plain": [
              "<Figure size 648x432 with 1 Axes>"
            ],
            "image/png": "[encoded data removed]"
          },
          "metadata": {
            "needs_background": "light"
          }
        }
      ]
    },
    {
      "cell_type": "code",
      "source": [
        "plt.figure(figsize = (12, 6))\n",
        "ax = sns.boxplot(x='purpose', y='loan_amnt', data=df)\n",
        "plt.setp(ax.artists, alpha=.5, linewidth=2, edgecolor=\"k\")\n",
        "plt.xticks(rotation=45)"
      ],
      "metadata": {
        "colab": {
          "base_uri": "https://localhost:8080/",
          "height": 491
        },
        "id": "LA8-MS8gW528",
        "outputId": "5cbf9bb7-1401-419b-c4d1-ea1caf59c65c"
      },
      "execution_count": null,
      "outputs": [
        {
          "output_type": "execute_result",
          "data": {
            "text/plain": [
              "(array([ 0,  1,  2,  3,  4,  5,  6,  7,  8,  9, 10, 11, 12, 13]),\n",
              " <a list of 14 Text major ticklabel objects>)"
            ]
          },
          "metadata": {},
          "execution_count": 35
        },
        {
          "output_type": "display_data",
          "data": {
            "text/plain": [
              "<Figure size 864x432 with 1 Axes>"
            ],
            "image/png": "[encoded data removed]"
          },
          "metadata": {
            "needs_background": "light"
          }
        }
      ]
    },
    {
      "cell_type": "code",
      "source": [
        "plt.figure(figsize = (12, 6))\n",
        "ax = sns.boxplot(x='home_ownership', y='loan_amnt', data=df)\n",
        "plt.setp(ax.artists, alpha=.5, linewidth=2, edgecolor=\"k\")\n",
        "plt.xticks(rotation=45)"
      ],
      "metadata": {
        "colab": {
          "base_uri": "https://localhost:8080/",
          "height": 443
        },
        "id": "nz9p-FdjYIbf",
        "outputId": "07f27ff5-196d-4488-f7e6-81c71284983f"
      },
      "execution_count": null,
      "outputs": [
        {
          "output_type": "execute_result",
          "data": {
            "text/plain": [
              "(array([0, 1, 2, 3, 4]), <a list of 5 Text major ticklabel objects>)"
            ]
          },
          "metadata": {},
          "execution_count": 36
        },
        {
          "output_type": "display_data",
          "data": {
            "text/plain": [
              "<Figure size 864x432 with 1 Axes>"
            ],
            "image/png": "[encoded data removed]"
          },
          "metadata": {
            "needs_background": "light"
          }
        }
      ]
    },
    {
      "cell_type": "code",
      "source": [
        "plt.figure(figsize = (12, 6))\n",
        "ax = sns.boxplot(x='grade', y='loan_amnt', data=df)\n",
        "plt.setp(ax.artists, alpha=.5, linewidth=2, edgecolor=\"k\")\n",
        "plt.xticks(rotation=45)"
      ],
      "metadata": {
        "colab": {
          "base_uri": "https://localhost:8080/",
          "height": 408
        },
        "id": "Tuyz80SJYNFI",
        "outputId": "5dac9767-4849-45eb-fbc7-960c470c138e"
      },
      "execution_count": null,
      "outputs": [
        {
          "output_type": "execute_result",
          "data": {
            "text/plain": [
              "(array([0, 1, 2, 3, 4, 5, 6]), <a list of 7 Text major ticklabel objects>)"
            ]
          },
          "metadata": {},
          "execution_count": 37
        },
        {
          "output_type": "display_data",
          "data": {
            "text/plain": [
              "<Figure size 864x432 with 1 Axes>"
            ],
            "image/png": "[encoded data removed]"
          },
          "metadata": {
            "needs_background": "light"
          }
        }
      ]
    },
    {
      "cell_type": "code",
      "source": [
        "sns.heatmap(df.corr(),annot=True)"
      ],
      "metadata": {
        "colab": {
          "base_uri": "https://localhost:8080/",
          "height": 287
        },
        "id": "7wGJubmEv7F6",
        "outputId": "f1d74bde-7be5-4613-bc40-916e8bf9aefc"
      },
      "execution_count": null,
      "outputs": [
        {
          "output_type": "execute_result",
          "data": {
            "text/plain": [
              "<matplotlib.axes._subplots.AxesSubplot at 0x7f941ff552b0>"
            ]
          },
          "metadata": {},
          "execution_count": 38
        },
        {
          "output_type": "display_data",
          "data": {
            "text/plain": [
              "<Figure size 432x288 with 2 Axes>"
            ],
            "image/png": "[encoded data removed]"
          },
          "metadata": {
            "needs_background": "light"
          }
        }
      ]
    },
    {
      "cell_type": "markdown",
      "source": [
        "#3. Data Preparation\n",
        "1. Missing Values\n",
        "2. Transformation of all categorical variables\n",
        "3. Split into Test and Training Dataset"
      ],
      "metadata": {
        "id": "yQTifmkoYtZU"
      }
    },
    {
      "cell_type": "code",
      "source": [
        "scaler = MinMaxScaler()\n",
        "df[['loan_amnt', 'annual_inc']] = scaler.fit_transform(df[['loan_amnt', 'annual_inc']])"
      ],
      "metadata": {
        "id": "2FLik-xSYXXf"
      },
      "execution_count": null,
      "outputs": []
    },
    {
      "cell_type": "code",
      "source": [
        "df['term'] = df.term.astype('category')\n",
        "df['term']  =  df['term'].cat.codes\n",
        "df['grade'] = df.grade.astype('category')\n",
        "df['grade']  =  df['grade'].cat.codes\n",
        "df['home_ownership'] = df.home_ownership.astype('category')\n",
        "df['home_ownership']  =  df['home_ownership'].cat.codes\n",
        "df['purpose'] = df.purpose.astype('category')\n",
        "df['purpose']  =  df['purpose'].cat.codes"
      ],
      "metadata": {
        "id": "CzwkHzq0YxtS"
      },
      "execution_count": null,
      "outputs": []
    },
    {
      "cell_type": "code",
      "source": [
        "X, y = df[['loan_amnt','term','grade','home_ownership','annual_inc','purpose']].values, df['int_rate'].values\n",
        "print('Features:',X[:6], '\\nLabels:', y[:6], sep='\\n')"
      ],
      "metadata": {
        "colab": {
          "base_uri": "https://localhost:8080/"
        },
        "id": "Je1XM2wuZeQ6",
        "outputId": "38fe13fc-28c7-4260-b35c-07ab486898d2"
      },
      "execution_count": null,
      "outputs": [
        {
          "output_type": "stream",
          "name": "stdout",
          "text": [
            "Features:\n",
            "[[1.30434783e-01 0.00000000e+00 1.00000000e+00 4.00000000e+00\n",
            "  3.33555704e-03 1.00000000e+00]\n",
            " [5.79710145e-02 1.00000000e+00 2.00000000e+00 4.00000000e+00\n",
            "  4.33622415e-03 0.00000000e+00]\n",
            " [5.50724638e-02 0.00000000e+00 2.00000000e+00 4.00000000e+00\n",
            "  1.37625083e-03 1.10000000e+01]\n",
            " [2.75362319e-01 0.00000000e+00 2.00000000e+00 4.00000000e+00\n",
            "  7.53835891e-03 9.00000000e+00]\n",
            " [7.24637681e-02 1.00000000e+00 1.00000000e+00 4.00000000e+00\n",
            "  1.26751167e-02 9.00000000e+00]\n",
            " [1.30434783e-01 0.00000000e+00 0.00000000e+00 4.00000000e+00\n",
            "  5.33689126e-03 1.30000000e+01]]\n",
            "\n",
            "Labels:\n",
            "[10.65 15.27 15.96 13.49 12.69  7.9 ]\n"
          ]
        }
      ]
    },
    {
      "cell_type": "markdown",
      "source": [
        "# Modeling"
      ],
      "metadata": {
        "id": "s0HQ4d_eCRMW"
      }
    },
    {
      "cell_type": "markdown",
      "source": [
        "### Split data 70%-30% into training set and test set"
      ],
      "metadata": {
        "id": "1CARuhc5lUXD"
      }
    },
    {
      "cell_type": "code",
      "source": [
        "from sklearn.model_selection import train_test_split\n",
        "\n",
        "X_train, X_test, y_train, y_test = train_test_split(X, y, test_size=0.30, random_state=0)\n",
        "print ('Training dataset: %d \\nTest dataset: %d ' % (X_train.shape[0], X_test.shape[0]))"
      ],
      "metadata": {
        "colab": {
          "base_uri": "https://localhost:8080/"
        },
        "id": "KD28EaMRZjG1",
        "outputId": "ae0f34a3-271b-45cf-fe18-4b5df7391006"
      },
      "execution_count": null,
      "outputs": [
        {
          "output_type": "stream",
          "name": "stdout",
          "text": [
            "Training dataset: 27850 \n",
            "Test dataset: 11936 \n"
          ]
        }
      ]
    },
    {
      "cell_type": "code",
      "source": [
        "from sklearn.model_selection import train_test_split\n",
        "from sklearn.linear_model import LinearRegression\n",
        "from sklearn import metrics\n",
        "from sklearn import preprocessing"
      ],
      "metadata": {
        "id": "cXQm84XnBaVS"
      },
      "execution_count": null,
      "outputs": []
    },
    {
      "cell_type": "code",
      "source": [
        "x = df.drop(columns = ['int_rate','loan_amnt','annual_inc'])\n",
        "y = df['int_rate'] #Target Variable"
      ],
      "metadata": {
        "id": "NeB_V0QWFDuN"
      },
      "execution_count": null,
      "outputs": []
    },
    {
      "cell_type": "code",
      "source": [
        "print(x.shape, y.shape) "
      ],
      "metadata": {
        "colab": {
          "base_uri": "https://localhost:8080/"
        },
        "id": "GPMgQXlQFQyi",
        "outputId": "c7ba547f-c340-4317-c07b-58656a314277"
      },
      "execution_count": null,
      "outputs": [
        {
          "output_type": "stream",
          "name": "stdout",
          "text": [
            "(39786, 4) (39786,)\n"
          ]
        }
      ]
    },
    {
      "cell_type": "code",
      "source": [
        "x = np.array(x)\n",
        "y = np.array(y)"
      ],
      "metadata": {
        "id": "wPH-JZVEFTJa"
      },
      "execution_count": null,
      "outputs": []
    },
    {
      "cell_type": "code",
      "source": [
        "y = y.reshape(-1,1)\n",
        "y.shape"
      ],
      "metadata": {
        "colab": {
          "base_uri": "https://localhost:8080/"
        },
        "id": "xdh1tbo4FUwI",
        "outputId": "ab02cf85-1106-4588-acd6-81a007c10a5e"
      },
      "execution_count": null,
      "outputs": [
        {
          "output_type": "execute_result",
          "data": {
            "text/plain": [
              "(39786, 1)"
            ]
          },
          "metadata": {},
          "execution_count": 50
        }
      ]
    },
    {
      "cell_type": "code",
      "source": [
        "#Scaling the Data\n",
        "\n",
        "from sklearn.preprocessing import StandardScaler, MinMaxScaler\n",
        "\n",
        "scaler = StandardScaler()\n",
        "minmax = MinMaxScaler()\n",
        "\n",
        "x = scaler.fit_transform(x)\n",
        "y = scaler.fit_transform(y)"
      ],
      "metadata": {
        "id": "A8ywHAcSFWKr"
      },
      "execution_count": null,
      "outputs": []
    },
    {
      "cell_type": "code",
      "source": [
        "from sklearn.preprocessing import StandardScaler, MinMaxScaler\n",
        "\n",
        "scaler = StandardScaler()\n",
        "minmax = MinMaxScaler()\n",
        "\n",
        "x = scaler.fit_transform(x)\n",
        "y = scaler.fit_transform(y)"
      ],
      "metadata": {
        "id": "tNm44v4jE4zY"
      },
      "execution_count": null,
      "outputs": []
    },
    {
      "cell_type": "code",
      "source": [
        "model_lr = LinearRegression()\n",
        "model_lr.fit(X_train, y_train)\n",
        "y_pred = model_lr.predict(X_test)\n",
        "print(\"Training set score: {:.7f}\".format(model_lr.score(X_train, y_train)))\n",
        "print(\"Test set score: {:.7f}\".format(model_lr.score(X_test, y_test)))\n",
        "print(\"RMSE: {:.7f}\".format(np.sqrt(metrics.mean_squared_error(y_test, y_pred))))"
      ],
      "metadata": {
        "colab": {
          "base_uri": "https://localhost:8080/"
        },
        "id": "L-anvUqhv3Cq",
        "outputId": "9f193d8a-1ef5-42c2-de62-df2c23c5f8f0"
      },
      "execution_count": null,
      "outputs": [
        {
          "output_type": "stream",
          "name": "stdout",
          "text": [
            "Training set score: 0.9026954\n",
            "Test set score: 0.9051174\n",
            "RMSE: 1.1442117\n"
          ]
        }
      ]
    },
    {
      "cell_type": "markdown",
      "source": [
        "####'loan_amnt','term','grade','home_ownership','annual_inc','purpose'"
      ],
      "metadata": {
        "id": "K8JrkV0ulpOZ"
      }
    },
    {
      "cell_type": "code",
      "source": [
        "\n",
        "model_lr.coef_"
      ],
      "metadata": {
        "colab": {
          "base_uri": "https://localhost:8080/"
        },
        "id": "fi-XDqPdCuPz",
        "outputId": "b1ca09fd-8068-4972-948a-30172feb38dc"
      },
      "execution_count": null,
      "outputs": [
        {
          "output_type": "execute_result",
          "data": {
            "text/plain": [
              "array([ 0.5129885 ,  0.4048864 ,  2.46164721,  0.04784491, -1.33065641,\n",
              "       -0.0062949 ])"
            ]
          },
          "metadata": {},
          "execution_count": 54
        }
      ]
    },
    {
      "cell_type": "code",
      "source": [
        "def calculate_residuals(model, features, label):\n",
        "    predictions = model_lr.predict(features)\n",
        "    df_result = pd.DataFrame({'Actual':label, 'Predicted':predictions})\n",
        "    df_result['Residuals'] = abs(df_result['Actual']) - abs(df_result['Predicted'])\n",
        "    return df_result"
      ],
      "metadata": {
        "id": "M9zNAF08BhyE"
      },
      "execution_count": null,
      "outputs": []
    },
    {
      "cell_type": "code",
      "source": [
        "def linear_assumption(model, features, label):\n",
        "    df_result = calculate_residuals(model, features, label)\n",
        "    fig1, ax1 = plt.subplots(figsize=(12,8))\n",
        "    ax1 = sns.regplot(x='Actual', y='Predicted', data=df_result, color='steelblue')\n",
        "    line_coords = np.arange(df_result.min().min(), df_result.max().max())\n",
        "    ax1 = plt.plot(line_coords, line_coords,  # X and y points\n",
        "              color='indianred')"
      ],
      "metadata": {
        "id": "a-d4VLgBBpFz"
      },
      "execution_count": null,
      "outputs": []
    },
    {
      "cell_type": "code",
      "source": [
        "linear_assumption(model_lr, X_test, y_test)"
      ],
      "metadata": {
        "colab": {
          "base_uri": "https://localhost:8080/",
          "height": 497
        },
        "id": "aKDmhWBZBr-c",
        "outputId": "178dd36a-70a3-404c-814e-c832a682d31a"
      },
      "execution_count": null,
      "outputs": [
        {
          "output_type": "display_data",
          "data": {
            "text/plain": [
              "<Figure size 864x576 with 1 Axes>"
            ],
            "image/png": "[encoded data removed]"
          },
          "metadata": {
            "needs_background": "light"
          }
        }
      ]
    },
    {
      "cell_type": "markdown",
      "source": [
        "####Residual Plot"
      ],
      "metadata": {
        "id": "oeX22NvSlvie"
      }
    },
    {
      "cell_type": "code",
      "source": [
        "#Residual Plot\n",
        "df_result = calculate_residuals(model_lr, X_test, y_test)\n",
        "fig2, ax2 = plt.subplots(figsize=(12,8))\n",
        "ax2.scatter(x=df_result['Predicted'], y=df_result['Residuals'], color='steelblue')\n",
        "plt.axhline(y=0, color='indianred')\n",
        "ax2.set_ylabel('Residuals', fontsize=12)\n",
        "ax2.set_xlabel('Predicted', fontsize=12)\n",
        "plt.show()"
      ],
      "metadata": {
        "colab": {
          "base_uri": "https://localhost:8080/",
          "height": 500
        },
        "id": "Qk2BsI8JByMs",
        "outputId": "6f5a373c-81b8-402e-e23e-54785ca8012f"
      },
      "execution_count": null,
      "outputs": [
        {
          "output_type": "display_data",
          "data": {
            "text/plain": [
              "<Figure size 864x576 with 1 Axes>"
            ],
            "image/png": "[encoded data removed]"
          },
          "metadata": {
            "needs_background": "light"
          }
        }
      ]
    },
    {
      "cell_type": "markdown",
      "source": [
        "###Achieved an Accuracy of 90% on the testing data using a Multiple Linear Regression Model"
      ],
      "metadata": {
        "id": "jbV36AG5lzGm"
      }
    },
    {
      "cell_type": "code",
      "source": [
        "accuracy_lr = model_lr.score(X_test, y_test)\n",
        "print(accuracy_lr)"
      ],
      "metadata": {
        "colab": {
          "base_uri": "https://localhost:8080/"
        },
        "id": "ZOVtdh3WF4TR",
        "outputId": "89477faa-fe75-4572-b1d4-8b4e8a95c8d2"
      },
      "execution_count": null,
      "outputs": [
        {
          "output_type": "stream",
          "name": "stdout",
          "text": [
            "0.9051173539659791\n"
          ]
        }
      ]
    },
    {
      "cell_type": "markdown",
      "source": [
        "####Achieved an Accuracy of 80% on the testing data using a DecisionTreeRegressor"
      ],
      "metadata": {
        "id": "V__zezeXl5lc"
      }
    },
    {
      "cell_type": "code",
      "source": [
        "from sklearn.tree import DecisionTreeRegressor\n",
        "\n",
        "dr_model = DecisionTreeRegressor() #Instantiate an object \n",
        "dr_model.fit(X_train, y_train)"
      ],
      "metadata": {
        "colab": {
          "base_uri": "https://localhost:8080/"
        },
        "id": "xJMJScmxGIH-",
        "outputId": "5e47c4e0-ce88-4189-ca63-da75aba67938"
      },
      "execution_count": null,
      "outputs": [
        {
          "output_type": "execute_result",
          "data": {
            "text/plain": [
              "DecisionTreeRegressor()"
            ]
          },
          "metadata": {},
          "execution_count": 68
        }
      ]
    },
    {
      "cell_type": "code",
      "source": [
        "accuracy_dr = dr_model.score(X_test, y_test)\n",
        "accuracy_dr"
      ],
      "metadata": {
        "colab": {
          "base_uri": "https://localhost:8080/"
        },
        "id": "8mHvYQBCGLjE",
        "outputId": "21ef5745-9f3d-4ee8-df90-37523cfd77b7"
      },
      "execution_count": null,
      "outputs": [
        {
          "output_type": "execute_result",
          "data": {
            "text/plain": [
              "0.8553305123367748"
            ]
          },
          "metadata": {},
          "execution_count": 61
        }
      ]
    },
    {
      "cell_type": "markdown",
      "source": [
        "chieved an Accuracy of 91% on the testing data using a RandomForestRegressor"
      ],
      "metadata": {
        "id": "L3S2uwBPmAyA"
      }
    },
    {
      "cell_type": "code",
      "source": [
        "from sklearn.ensemble import RandomForestRegressor\n",
        "\n",
        "rf_model = RandomForestRegressor(n_estimators=75, max_depth=25) #Instantiate an object \n",
        "\n",
        "#Try Experimenting with this n_estimators and max_depth parameters\n",
        "\n",
        "rf_model.fit(X_train, y_train)"
      ],
      "metadata": {
        "colab": {
          "base_uri": "https://localhost:8080/"
        },
        "id": "Xu8QgjJOGOSu",
        "outputId": "1f3b48f3-9f5f-488e-d7cb-081d4b1edcde"
      },
      "execution_count": null,
      "outputs": [
        {
          "output_type": "execute_result",
          "data": {
            "text/plain": [
              "RandomForestRegressor(max_depth=25, n_estimators=75)"
            ]
          },
          "metadata": {},
          "execution_count": 64
        }
      ]
    },
    {
      "cell_type": "code",
      "source": [
        "accuracy_rf = rf_model.score(X_test, y_test)\n",
        "accuracy_rf"
      ],
      "metadata": {
        "colab": {
          "base_uri": "https://localhost:8080/"
        },
        "id": "N1wXQgiUGUlo",
        "outputId": "233fb015-1909-45c8-9781-45e9339f30ed"
      },
      "execution_count": null,
      "outputs": [
        {
          "output_type": "execute_result",
          "data": {
            "text/plain": [
              "0.9164787847541169"
            ]
          },
          "metadata": {},
          "execution_count": 65
        }
      ]
    },
    {
      "cell_type": "markdown",
      "source": [
        "Hyperparameter Tuning / Grid Search "
      ],
      "metadata": {
        "id": "4Qs6WmhMmJcZ"
      }
    },
    {
      "cell_type": "code",
      "source": [
        "from sklearn.ensemble import GradientBoostingRegressor\n",
        "from sklearn.model_selection import GridSearchCV\n",
        "from sklearn.metrics import make_scorer, r2_score"
      ],
      "metadata": {
        "id": "A4Zpb1ikDQ87"
      },
      "execution_count": null,
      "outputs": []
    },
    {
      "cell_type": "code",
      "source": [
        "from sklearn.metrics import classification_report\n",
        "from sklearn.metrics import confusion_matrix\n",
        "from sklearn.metrics import mean_squared_error\n",
        "\n",
        "\n",
        "# Use a Gradient Boosting algorithm with different hyperparameters\n",
        "alg = [\n",
        "     [{\n",
        "         #hyperpamaters choosen: learning_rate and n_estimators\n",
        " 'learning_rate': [0.1,0.2,0.3,0.4,0.5,0.6,0.7,0.8,0.9,1.0],\n",
        "  'n_estimators' : [5,10,15,20,25,30,35,40,45,50]\n",
        " }, GradientBoostingRegressor()]\n",
        "\n",
        "\n",
        "              ]\n",
        "\n",
        "for params,alg in alg:\n",
        "  # Find the best hyperparameter combination to optimize the R2 metric\n",
        "  score = make_scorer(r2_score)\n",
        "  gridsearch = GridSearchCV(alg, params, scoring=score, cv=3, return_train_score=True)\n",
        "  gridsearch.fit(X_train, y_train)\n",
        "  print(\"Best parameter combination:\", gridsearch.best_params_, \"\\n\")\n",
        "\n",
        "  # Get the best model\n",
        "  model=gridsearch.best_estimator_\n",
        "  print(model, \"\\n\")\n",
        "\n",
        "  # Evaluate the model using the test data\n",
        "  predictions = model.predict(X_test)\n",
        "  mse = mean_squared_error(y_test, predictions)\n",
        "  print(\"MSE:\", mse)\n",
        "  rmse = np.sqrt(mse)\n",
        "  print(\"RMSE:\", rmse)\n",
        "  r2 = r2_score(y_test, predictions)\n",
        "  print(\"R2:\", r2)\n",
        "\n",
        "  # Plot predicted vs actual\n",
        "  plt.scatter(y_test, predictions)\n",
        "  plt.xlabel('Actual Labels')\n",
        "  plt.ylabel('Predicted Labels')\n",
        "  plt.title('Actual vs Predicted')\n",
        "  # overlay the regression line\n",
        "  z = np.polyfit(y_test, predictions, 1)\n",
        "  p = np.poly1d(z)\n",
        "  plt.plot(y_test,p(y_test), color='magenta')\n",
        "  plt.show()\n",
        "  \n",
        "#Control for overfitting: campare training and test datasets\n",
        "  clf=model.fit(X_train,y_train)\n",
        "  y_pred=model.predict(X_test)\n",
        "    \n",
        "  print(f'Training Score for   {clf.score(X_train,y_train) * 100:.2f}' )\n",
        "  print(f'Testing Score for  {clf.score(X_test,y_test) * 100:.2f}' )"
      ],
      "metadata": {
        "colab": {
          "base_uri": "https://localhost:8080/",
          "height": 451
        },
        "id": "wBU19vf0DHa2",
        "outputId": "5e02b2d3-d04e-4b6c-8b10-3cd157bb8071"
      },
      "execution_count": null,
      "outputs": [
        {
          "output_type": "stream",
          "name": "stdout",
          "text": [
            "Best parameter combination: {'learning_rate': 0.2, 'n_estimators': 40} \n",
            "\n",
            "GradientBoostingRegressor(learning_rate=0.2, n_estimators=40) \n",
            "\n",
            "MSE: 0.9889450047138668\n",
            "RMSE: 0.9944571407123923\n",
            "R2: 0.9283285493226082\n"
          ]
        },
        {
          "output_type": "display_data",
          "data": {
            "text/plain": [
              "<Figure size 432x288 with 1 Axes>"
            ],
            "image/png": "[encoded data removed]"
          },
          "metadata": {
            "needs_background": "light"
          }
        },
        {
          "output_type": "stream",
          "name": "stdout",
          "text": [
            "Training Score for   92.83\n",
            "Testing Score for  92.83\n"
          ]
        }
      ]
    },
    {
      "cell_type": "code",
      "source": [
        "%%shell\n",
        "jupyter nbconvert --to html /content/Task2_Evaluated_Exercise_–_Part_II_SciKit_Stack.ipynb"
      ],
      "metadata": {
        "colab": {
          "base_uri": "https://localhost:8080/"
        },
        "id": "lGJsOGeBnPhI",
        "outputId": "521724b6-27ea-4735-f2e7-3662c54ff83c"
      },
      "execution_count": null,
      "outputs": [
        {
          "output_type": "stream",
          "name": "stdout",
          "text": [
            "[NbConvertApp] Converting notebook /content/Task2_Evaluated_Exercise_–_Part_II_SciKit_Stack.ipynb to html\n",
            "[NbConvertApp] Writing 745632 bytes to /content/Task2_Evaluated_Exercise_–_Part_II_SciKit_Stack.html\n"
          ]
        },
        {
          "output_type": "execute_result",
          "data": {
            "text/plain": []
          },
          "metadata": {},
          "execution_count": 69
        }
      ]
    }
  ]
}